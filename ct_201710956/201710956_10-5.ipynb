{
 "cells": [
  {
   "cell_type": "code",
   "execution_count": 1,
   "metadata": {
    "collapsed": true
   },
   "outputs": [],
   "source": [
    "import turtle\n",
    "wn = turtle.Screen()\n",
    "t1 = turtle.Turtle()"
   ]
  },
  {
   "cell_type": "code",
   "execution_count": 2,
   "metadata": {
    "collapsed": false
   },
   "outputs": [
    {
     "name": "stdout",
     "output_type": "stream",
     "text": [
      "960\n"
     ]
    }
   ],
   "source": [
    "width = wn.window_width()\n",
    "print width"
   ]
  },
  {
   "cell_type": "code",
   "execution_count": 3,
   "metadata": {
    "collapsed": true
   },
   "outputs": [],
   "source": [
    "w3 = (width - 160) / 4\n",
    "x1 = 0.0 - w3\n",
    "x2 = 0.0\n",
    "x3 = 0.0 + w3"
   ]
  },
  {
   "cell_type": "code",
   "execution_count": 4,
   "metadata": {
    "collapsed": false
   },
   "outputs": [
    {
     "name": "stdout",
     "output_type": "stream",
     "text": [
      "-200.0 0.0 200.0\n"
     ]
    }
   ],
   "source": [
    "print x1, x2, x3"
   ]
  },
  {
   "cell_type": "code",
   "execution_count": 19,
   "metadata": {
    "collapsed": true
   },
   "outputs": [],
   "source": [
    "def triangle(size) :\n",
    "    t1.setheading(300)\n",
    "    t1.fd(size)\n",
    "    t1.lt(240)\n",
    "    t1.fd(size)\n",
    "    t1.rt(120)\n",
    "    t1.fd(size)"
   ]
  },
  {
   "cell_type": "code",
   "execution_count": 20,
   "metadata": {
    "collapsed": true
   },
   "outputs": [],
   "source": [
    "triangle(100)"
   ]
  },
  {
   "cell_type": "code",
   "execution_count": 61,
   "metadata": {
    "collapsed": true
   },
   "outputs": [],
   "source": [
    "t1.home()\n",
    "t1.clear()"
   ]
  },
  {
   "cell_type": "code",
   "execution_count": 22,
   "metadata": {
    "collapsed": false
   },
   "outputs": [],
   "source": [
    "def triangleAt(size,at) :\n",
    "    t1.penup()\n",
    "    t1.goto(at,0)\n",
    "    t1.setheading(0)\n",
    "    t1.pendown()\n",
    "    t1.write(t1.pos())\n",
    "    triangle(size)"
   ]
  },
  {
   "cell_type": "code",
   "execution_count": 23,
   "metadata": {
    "collapsed": true
   },
   "outputs": [],
   "source": [
    "triangleAt(200, x1)"
   ]
  },
  {
   "cell_type": "code",
   "execution_count": 33,
   "metadata": {
    "collapsed": false
   },
   "outputs": [],
   "source": [
    "def hexagon(size) :\n",
    "    t1.setheading(0)\n",
    "    t1.fd(size)\n",
    "    t1.setheading(300)\n",
    "    t1.fd(size)\n",
    "    t1.setheading(240)\n",
    "    t1.fd(size)\n",
    "    t1.setheading(180)\n",
    "    t1.fd(size)\n",
    "    t1.setheading(120)\n",
    "    t1.fd(size)\n",
    "    t1.setheading(60)\n",
    "    t1.fd(size)"
   ]
  },
  {
   "cell_type": "code",
   "execution_count": 35,
   "metadata": {
    "collapsed": false
   },
   "outputs": [],
   "source": [
    "hexagon(100)"
   ]
  },
  {
   "cell_type": "code",
   "execution_count": 56,
   "metadata": {
    "collapsed": true
   },
   "outputs": [],
   "source": [
    "def pentagon(size) :\n",
    "    t1.setheading(324)\n",
    "    t1.fd(size)\n",
    "    t1.rt(72)\n",
    "    t1.fd(size)\n",
    "    t1.rt(72)\n",
    "    t1.fd(size)\n",
    "    t1.rt(72)\n",
    "    t1.fd(size)\n",
    "    t1.rt(72)\n",
    "    t1.fd(size)"
   ]
  },
  {
   "cell_type": "code",
   "execution_count": 57,
   "metadata": {
    "collapsed": true
   },
   "outputs": [],
   "source": [
    "pentagon(100)"
   ]
  },
  {
   "cell_type": "code",
   "execution_count": 59,
   "metadata": {
    "collapsed": false
   },
   "outputs": [],
   "source": [
    "def pentagonAt(size, at) :\n",
    "    t1.penup()\n",
    "    t1.goto(at,0)\n",
    "    t1.setheading(0)\n",
    "    t1.pendown()\n",
    "    t1.write(t1.pos())\n",
    "    pentagon(size)"
   ]
  },
  {
   "cell_type": "code",
   "execution_count": 63,
   "metadata": {
    "collapsed": true
   },
   "outputs": [],
   "source": [
    "def hexagonAt(size, at) :\n",
    "    t1.penup()\n",
    "    t1.goto(at,0)\n",
    "    t1.setheading(0)\n",
    "    t1.pendown()\n",
    "    t1.write(t1.pos())\n",
    "    hexagon(size)"
   ]
  },
  {
   "cell_type": "code",
   "execution_count": 78,
   "metadata": {
    "collapsed": false
   },
   "outputs": [],
   "source": [
    "triangleAt(100, x1)\n",
    "pentagonAt(100, x2)"
   ]
  },
  {
   "cell_type": "code",
   "execution_count": 75,
   "metadata": {
    "collapsed": true
   },
   "outputs": [],
   "source": [
    "def star(size):\n",
    "    t1.setheading(288)\n",
    "    t1.fd(size)\n",
    "    t1.rt(144)\n",
    "    t1.fd(size)\n",
    "    t1.rt(144)\n",
    "    t1.fd(size)\n",
    "    t1.rt(144)\n",
    "    t1.fd(size)\n",
    "    t1.rt(144)\n",
    "    t1.fd(size)"
   ]
  },
  {
   "cell_type": "code",
   "execution_count": 76,
   "metadata": {
    "collapsed": true
   },
   "outputs": [],
   "source": [
    "def starAt(size, at) :\n",
    "    t1.penup()\n",
    "    t1.goto(at,0)\n",
    "    t1.setheading(0)\n",
    "    t1.pendown()\n",
    "    t1.write(t1.pos())\n",
    "    star(size)"
   ]
  },
  {
   "cell_type": "code",
   "execution_count": 77,
   "metadata": {
    "collapsed": true
   },
   "outputs": [],
   "source": [
    "starAt(100, x3)"
   ]
  },
  {
   "cell_type": "code",
   "execution_count": null,
   "metadata": {
    "collapsed": true
   },
   "outputs": [],
   "source": []
  }
 ],
 "metadata": {
  "kernelspec": {
   "display_name": "Python 2",
   "language": "python",
   "name": "python2"
  },
  "language_info": {
   "codemirror_mode": {
    "name": "ipython",
    "version": 2
   },
   "file_extension": ".py",
   "mimetype": "text/x-python",
   "name": "python",
   "nbconvert_exporter": "python",
   "pygments_lexer": "ipython2",
   "version": "2.7.13"
  }
 },
 "nbformat": 4,
 "nbformat_minor": 2
}
