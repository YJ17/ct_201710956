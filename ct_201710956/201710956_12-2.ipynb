{
 "cells": [
  {
   "cell_type": "code",
   "execution_count": 1,
   "metadata": {
    "collapsed": true
   },
   "outputs": [],
   "source": [
    "import turtle\n",
    "wn = turtle.Screen()\n",
    "t1 = turtle.Turtle()"
   ]
  },
  {
   "cell_type": "code",
   "execution_count": 2,
   "metadata": {
    "collapsed": false
   },
   "outputs": [
    {
     "name": "stdout",
     "output_type": "stream",
     "text": [
      "960\n"
     ]
    }
   ],
   "source": [
    "width = wn.window_width()\n",
    "print width"
   ]
  },
  {
   "cell_type": "code",
   "execution_count": 3,
   "metadata": {
    "collapsed": true
   },
   "outputs": [],
   "source": [
    "w3 = (width - 160) / 4\n",
    "x1 = 0.0 - w3\n",
    "x2 = 0.0\n",
    "x3 = 0.0 + w3"
   ]
  },
  {
   "cell_type": "code",
   "execution_count": 44,
   "metadata": {
    "collapsed": true
   },
   "outputs": [],
   "source": [
    "def drawSquare(size) :\n",
    "    for i in range(0,4):\n",
    "        t1.forward(size)\n",
    "        t1.right(90)"
   ]
  },
  {
   "cell_type": "code",
   "execution_count": 45,
   "metadata": {
    "collapsed": true
   },
   "outputs": [],
   "source": [
    "def drawTriangle(size) :\n",
    "    for i in range(0,3) :\n",
    "        t1.fd(size)\n",
    "        t1.rt(120)"
   ]
  },
  {
   "cell_type": "code",
   "execution_count": 46,
   "metadata": {
    "collapsed": true
   },
   "outputs": [],
   "source": [
    "def drawStar(size) :\n",
    "    for i in range(0,5) :\n",
    "        t1.fd(size)\n",
    "        t1.rt(144)"
   ]
  },
  {
   "cell_type": "code",
   "execution_count": 47,
   "metadata": {
    "collapsed": true
   },
   "outputs": [],
   "source": [
    "def drawSquareAt(x,y,size) :\n",
    "    t1.penup()\n",
    "    t1.goto(x,y)\n",
    "    t1.pendown()\n",
    "    t1.setheading(0)\n",
    "    drawSquare(size)"
   ]
  },
  {
   "cell_type": "code",
   "execution_count": 48,
   "metadata": {
    "collapsed": true
   },
   "outputs": [],
   "source": [
    "def drawTriangleAt(x,y,size) :\n",
    "    t1.penup()\n",
    "    t1.goto(x,y)\n",
    "    t1.pendown()\n",
    "    t1.setheading(0)\n",
    "    drawTriangle(size)"
   ]
  },
  {
   "cell_type": "code",
   "execution_count": 49,
   "metadata": {
    "collapsed": true
   },
   "outputs": [],
   "source": [
    "def drawStarAt(x,y,size) :\n",
    "    t1.penup()\n",
    "    t1.goto(x,y)\n",
    "    t1.pendown()\n",
    "    t1.setheading(0)\n",
    "    drawStar(size)"
   ]
  },
  {
   "cell_type": "code",
   "execution_count": 50,
   "metadata": {
    "collapsed": true
   },
   "outputs": [],
   "source": [
    "drawSquareAt(-200,0,100)\n",
    "drawTriangleAt(0,0,100)\n",
    "drawStarAt(200,0,100)"
   ]
  },
  {
   "cell_type": "code",
   "execution_count": null,
   "metadata": {
    "collapsed": true
   },
   "outputs": [],
   "source": []
  }
 ],
 "metadata": {
  "kernelspec": {
   "display_name": "Python 2",
   "language": "python",
   "name": "python2"
  },
  "language_info": {
   "codemirror_mode": {
    "name": "ipython",
    "version": 2
   },
   "file_extension": ".py",
   "mimetype": "text/x-python",
   "name": "python",
   "nbconvert_exporter": "python",
   "pygments_lexer": "ipython2",
   "version": "2.7.13"
  }
 },
 "nbformat": 4,
 "nbformat_minor": 2
}
