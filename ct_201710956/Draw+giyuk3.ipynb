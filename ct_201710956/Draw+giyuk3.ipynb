{
 "cells": [
  {
   "cell_type": "code",
   "execution_count": 1,
   "metadata": {
    "collapsed": true
   },
   "outputs": [],
   "source": [
    "import turtle\n",
    "wn = turtle.Screen()\n",
    "t1 = turtle.Turtle()"
   ]
  },
  {
   "cell_type": "code",
   "execution_count": 2,
   "metadata": {
    "collapsed": false
   },
   "outputs": [
    {
     "name": "stdout",
     "output_type": "stream",
     "text": [
      "960\n"
     ]
    }
   ],
   "source": [
    "width = wn.window_width()\n",
    "print width"
   ]
  },
  {
   "cell_type": "code",
   "execution_count": 3,
   "metadata": {
    "collapsed": true
   },
   "outputs": [],
   "source": [
    "x1 = 0.0 - (width - 40) / 3\n",
    "x2 = 0.0\n",
    "x3 = 0.0 + (width - 40) / 3"
   ]
  },
  {
   "cell_type": "code",
   "execution_count": 6,
   "metadata": {
    "collapsed": true
   },
   "outputs": [],
   "source": [
    "w3 = (width - 160) / 4\n",
    "x1 = 0.0 - w3\n",
    "x2 = 0.0\n",
    "x3 = 0.0 + w3"
   ]
  },
  {
   "cell_type": "code",
   "execution_count": 7,
   "metadata": {
    "collapsed": false
   },
   "outputs": [
    {
     "name": "stdout",
     "output_type": "stream",
     "text": [
      "-200.0 0.0 200.0\n"
     ]
    }
   ],
   "source": [
    "print x1, x2, x3"
   ]
  },
  {
   "cell_type": "code",
   "execution_count": 8,
   "metadata": {
    "collapsed": true
   },
   "outputs": [],
   "source": [
    "def giyuk(size) :\n",
    "    t1.fd(size)\n",
    "    t1.rt(90)\n",
    "    t1.fd(size)"
   ]
  },
  {
   "cell_type": "code",
   "execution_count": 9,
   "metadata": {
    "collapsed": true
   },
   "outputs": [],
   "source": [
    "t1.penup()\n",
    "t1.goto(x1,0)\n",
    "t1.pendown()\n",
    "t1.write(t1.pos())\n",
    "giyuk(100)"
   ]
  },
  {
   "cell_type": "code",
   "execution_count": 10,
   "metadata": {
    "collapsed": false
   },
   "outputs": [
    {
     "data": {
      "text/plain": [
       "270.0"
      ]
     },
     "execution_count": 10,
     "metadata": {},
     "output_type": "execute_result"
    }
   ],
   "source": [
    "t1.heading()"
   ]
  },
  {
   "cell_type": "code",
   "execution_count": 11,
   "metadata": {
    "collapsed": true
   },
   "outputs": [],
   "source": [
    "t1.penup()\n",
    "t1.goto(x2,0)\n",
    "t1.setheading(0)\n",
    "t1.pendown()\n",
    "t1.write(t1.pos())\n",
    "giyuk(100)"
   ]
  },
  {
   "cell_type": "code",
   "execution_count": 12,
   "metadata": {
    "collapsed": true
   },
   "outputs": [],
   "source": [
    "t1.penup()\n",
    "t1.goto(x3,0)\n",
    "t1.setheading(0)\n",
    "t1.pendown()\n",
    "t1.write(t1.pos())\n",
    "giyuk(100)"
   ]
  },
  {
   "cell_type": "code",
   "execution_count": 13,
   "metadata": {
    "collapsed": true
   },
   "outputs": [],
   "source": [
    "def giyukAt(size, at) :\n",
    "    t1.penup()\n",
    "    t1.goto(at,0)\n",
    "    t1.setheading(0)\n",
    "    t1.pendown()\n",
    "    t1.write(t1.pos())\n",
    "    giyuk(size)"
   ]
  },
  {
   "cell_type": "code",
   "execution_count": 14,
   "metadata": {
    "collapsed": true
   },
   "outputs": [],
   "source": [
    "t1.home()\n",
    "t1.clear()"
   ]
  },
  {
   "cell_type": "code",
   "execution_count": 15,
   "metadata": {
    "collapsed": true
   },
   "outputs": [],
   "source": [
    "giyukAt(100,x1)\n",
    "giyukAt(100,x2)\n",
    "giyukAt(100,x3)"
   ]
  },
  {
   "cell_type": "code",
   "execution_count": null,
   "metadata": {
    "collapsed": true
   },
   "outputs": [],
   "source": []
  }
 ],
 "metadata": {
  "kernelspec": {
   "display_name": "Python 2",
   "language": "python",
   "name": "python2"
  },
  "language_info": {
   "codemirror_mode": {
    "name": "ipython",
    "version": 2
   },
   "file_extension": ".py",
   "mimetype": "text/x-python",
   "name": "python",
   "nbconvert_exporter": "python",
   "pygments_lexer": "ipython2",
   "version": "2.7.13"
  }
 },
 "nbformat": 4,
 "nbformat_minor": 2
}
