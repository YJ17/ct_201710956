{
 "cells": [
  {
   "cell_type": "code",
   "execution_count": null,
   "metadata": {
    "collapsed": true
   },
   "outputs": [],
   "source": [
    "#파일 이름이 주어졌을 때 jpg를 찾아서 gif로 바꾸는 코드 작성\n",
    "from PIL import Image\n",
    "s = \"minion.jpg\"\n",
    "m = Image.open(\"C:\\\\Users\\\\USER\\\\Desktop\\\\minion.jpg\")\n",
    "m.save(\"C:\\\\Users\\\\USER\\\\Desktop\\\\minion.gif\")"
   ]
  }
 ],
 "metadata": {
  "kernelspec": {
   "display_name": "Python 2",
   "language": "python",
   "name": "python2"
  },
  "language_info": {
   "codemirror_mode": {
    "name": "ipython",
    "version": 2
   },
   "file_extension": ".py",
   "mimetype": "text/x-python",
   "name": "python",
   "nbconvert_exporter": "python",
   "pygments_lexer": "ipython2",
   "version": "2.7.13"
  }
 },
 "nbformat": 4,
 "nbformat_minor": 2
}
