{
 "cells": [
  {
   "cell_type": "code",
   "execution_count": 1,
   "metadata": {
    "collapsed": true
   },
   "outputs": [],
   "source": [
    "import turtle\n",
    "wn = turtle.Screen()\n",
    "t1 = turtle.Turtle()"
   ]
  },
  {
   "cell_type": "code",
   "execution_count": 2,
   "metadata": {
    "collapsed": false
   },
   "outputs": [
    {
     "name": "stdout",
     "output_type": "stream",
     "text": [
      "960\n"
     ]
    }
   ],
   "source": [
    "width = wn.window_width()\n",
    "print width"
   ]
  },
  {
   "cell_type": "code",
   "execution_count": 3,
   "metadata": {
    "collapsed": true
   },
   "outputs": [],
   "source": [
    "w3 = (width - 160) / 4\n",
    "x1 = 0.0 - w3\n",
    "x2 = 0.0\n",
    "x3 = 0.0 + w3"
   ]
  },
  {
   "cell_type": "code",
   "execution_count": 23,
   "metadata": {
    "collapsed": true
   },
   "outputs": [],
   "source": [
    "def giyuk(t,size) :\n",
    "    t1.fd(size)\n",
    "    t1.rt(90)\n",
    "    t1.fd(size)"
   ]
  },
  {
   "cell_type": "code",
   "execution_count": 24,
   "metadata": {
    "collapsed": true
   },
   "outputs": [],
   "source": [
    "def giyukAt(size, at) :\n",
    "    t1.penup()\n",
    "    t1.goto(at,0)\n",
    "    t1.setheading(0)\n",
    "    t1.pendown()\n",
    "    t1.write(t1.pos())\n",
    "    giyuk(size)"
   ]
  },
  {
   "cell_type": "code",
   "execution_count": 25,
   "metadata": {
    "collapsed": true
   },
   "outputs": [],
   "source": [
    "def giyukBackHome(t, size) :\n",
    "    oldpos = t.pos()\n",
    "    oldheading = t.heading()\n",
    "    giyuk(t,100)\n",
    "    t.penup()\n",
    "    t.setpos(oldpos)\n",
    "    t.setheading(oldheading)\n",
    "    t.pendown()"
   ]
  },
  {
   "cell_type": "code",
   "execution_count": 33,
   "metadata": {
    "collapsed": false
   },
   "outputs": [
    {
     "data": {
      "text/plain": [
       "turtle.Turtle"
      ]
     },
     "execution_count": 33,
     "metadata": {},
     "output_type": "execute_result"
    }
   ],
   "source": [
    "type(t1)"
   ]
  },
  {
   "cell_type": "code",
   "execution_count": 30,
   "metadata": {
    "collapsed": false
   },
   "outputs": [],
   "source": [
    "turnby = 0\n",
    "giyukBackHome(t1,100)\n",
    "turnby += 45\n",
    "giyukBackHome(t1,100)\n",
    "turnby += 45\n",
    "giyukBackHome(t1,100)\n",
    "turnby += 45\n",
    "giyukBackHome(t1,100)\n",
    "turnby += 45\n",
    "giyukBackHome(t1,100)\n",
    "turnby += 45"
   ]
  },
  {
   "cell_type": "code",
   "execution_count": 32,
   "metadata": {
    "collapsed": false
   },
   "outputs": [
    {
     "name": "stdout",
     "output_type": "stream",
     "text": [
      "90\n"
     ]
    }
   ],
   "source": [
    "turnby  = 0\n",
    "turnby += 45\n",
    "turnby += 45\n",
    "print turnby"
   ]
  },
  {
   "cell_type": "code",
   "execution_count": 29,
   "metadata": {
    "collapsed": false
   },
   "outputs": [
    {
     "name": "stdout",
     "output_type": "stream",
     "text": [
      "( 1 ) 0\n",
      "( 2 ) 1\n",
      "( 3 ) 2\n",
      "( 4 ) 3\n",
      "( 5 ) 4\n",
      "( 6 ) 5\n",
      "( 7 ) 6\n",
      "( 8 ) 7\n",
      "( 9 ) 8\n",
      "( 10 ) 9\n",
      "( 11 ) 10\n"
     ]
    }
   ],
   "source": [
    "for i in range(0,11):\n",
    "    print \"(\",i+1,\")\", i"
   ]
  },
  {
   "cell_type": "code",
   "execution_count": 34,
   "metadata": {
    "collapsed": false
   },
   "outputs": [
    {
     "name": "stdout",
     "output_type": "stream",
     "text": [
      "0\n",
      "1\n",
      "2\n",
      "3\n",
      "4\n",
      "5\n",
      "6\n",
      "7\n",
      "8\n",
      "9\n"
     ]
    }
   ],
   "source": [
    "i = 0\n",
    "while i < 10 :\n",
    "    print(i)\n",
    "    i += 1"
   ]
  },
  {
   "cell_type": "code",
   "execution_count": 38,
   "metadata": {
    "collapsed": false
   },
   "outputs": [
    {
     "name": "stdout",
     "output_type": "stream",
     "text": [
      "5050\n"
     ]
    }
   ],
   "source": [
    "i = 0\n",
    "sum = 0\n",
    "while i <= 100 :\n",
    "    sum += i\n",
    "    i += 1\n",
    "print(sum)"
   ]
  },
  {
   "cell_type": "code",
   "execution_count": 47,
   "metadata": {
    "collapsed": true
   },
   "outputs": [],
   "source": [
    "t1.home()\n",
    "t1.clear()"
   ]
  },
  {
   "cell_type": "code",
   "execution_count": 41,
   "metadata": {
    "collapsed": true
   },
   "outputs": [],
   "source": [
    "t1.fd(100)\n",
    "t1.rt(90)\n",
    "t1.fd(100)\n",
    "t1.rt(90)\n",
    "t1.fd(100)\n",
    "t1.rt(90)\n",
    "t1.fd(100)"
   ]
  },
  {
   "cell_type": "code",
   "execution_count": 44,
   "metadata": {
    "collapsed": true
   },
   "outputs": [],
   "source": [
    "for i in range(0,4) :\n",
    "    t1.fd(100)\n",
    "    t1.rt(90)"
   ]
  },
  {
   "cell_type": "code",
   "execution_count": 48,
   "metadata": {
    "collapsed": true
   },
   "outputs": [],
   "source": [
    "i = 0\n",
    "while i < 4 :\n",
    "    t1.fd(100)\n",
    "    t1.rt(90)\n",
    "    i += 1"
   ]
  },
  {
   "cell_type": "code",
   "execution_count": 51,
   "metadata": {
    "collapsed": false
   },
   "outputs": [],
   "source": [
    "def drawSquare(size) :\n",
    "    for i in range(0,4) :\n",
    "        t1.fd(100)\n",
    "        t1.rt(90)"
   ]
  },
  {
   "cell_type": "code",
   "execution_count": 52,
   "metadata": {
    "collapsed": true
   },
   "outputs": [],
   "source": [
    "drawSquare(100)"
   ]
  },
  {
   "cell_type": "code",
   "execution_count": null,
   "metadata": {
    "collapsed": true
   },
   "outputs": [],
   "source": []
  }
 ],
 "metadata": {
  "kernelspec": {
   "display_name": "Python 2",
   "language": "python",
   "name": "python2"
  },
  "language_info": {
   "codemirror_mode": {
    "name": "ipython",
    "version": 2
   },
   "file_extension": ".py",
   "mimetype": "text/x-python",
   "name": "python",
   "nbconvert_exporter": "python",
   "pygments_lexer": "ipython2",
   "version": "2.7.13"
  }
 },
 "nbformat": 4,
 "nbformat_minor": 2
}
